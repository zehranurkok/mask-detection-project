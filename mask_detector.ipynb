{
  "nbformat": 4,
  "nbformat_minor": 0,
  "metadata": {
    "colab": {
      "name": "mask_detector.ipynb",
      "provenance": [],
      "collapsed_sections": [],
      "toc_visible": true
    },
    "kernelspec": {
      "display_name": "Python 3",
      "language": "python",
      "name": "python3"
    },
    "language_info": {
      "codemirror_mode": {
        "name": "ipython",
        "version": 3
      },
      "file_extension": ".py",
      "mimetype": "text/x-python",
      "name": "python",
      "nbconvert_exporter": "python",
      "pygments_lexer": "ipython3",
      "version": "3.8.5"
    }
  },
  "cells": [
    {
      "cell_type": "code",
      "metadata": {
        "id": "QYs0UMr79Lly"
      },
      "source": [
        "# gerekli paketlerin import edilmesi\n",
        "from tensorflow.keras.preprocessing.image import ImageDataGenerator\n",
        "from tensorflow.keras.applications import MobileNetV2\n",
        "from tensorflow.keras.layers import AveragePooling2D\n",
        "from tensorflow.keras.layers import Dropout\n",
        "from tensorflow.keras.layers import Flatten\n",
        "from tensorflow.keras.layers import Dense\n",
        "from tensorflow.keras.layers import Input\n",
        "from tensorflow.keras.models import Model\n",
        "from tensorflow.keras.optimizers import Adam\n",
        "from tensorflow.keras.applications.mobilenet_v2 import preprocess_input\n",
        "from tensorflow.keras.preprocessing.image import img_to_array\n",
        "from tensorflow.keras.preprocessing.image import load_img\n",
        "from tensorflow.keras.utils import to_categorical\n",
        "from sklearn.preprocessing import LabelBinarizer\n",
        "from sklearn.model_selection import train_test_split\n",
        "from sklearn.metrics import classification_report\n",
        "from imutils import paths\n",
        "import matplotlib.pyplot as plt\n",
        "import numpy as np\n",
        "import os"
      ],
      "execution_count": null,
      "outputs": []
    },
    {
      "cell_type": "code",
      "metadata": {
        "colab": {
          "base_uri": "https://localhost:8080/"
        },
        "id": "JHdbDeFG9R-W",
        "outputId": "ada7799b-8ff0-4e6e-f9ab-1e360480cf0c"
      },
      "source": [
        "from google.colab import drive\n",
        "drive.mount('/content/drive')"
      ],
      "execution_count": null,
      "outputs": [
        {
          "output_type": "stream",
          "text": [
            "Mounted at /content/drive\n"
          ],
          "name": "stdout"
        }
      ]
    },
    {
      "cell_type": "code",
      "metadata": {
        "id": "ceLVnsea9Ll3"
      },
      "source": [
        "INIT_LR = 1e-4\n",
        "EPOCHS = 20\n",
        "BS = 32\n",
        "\n",
        "DIRECTORY = r\"/content/drive/MyDrive/Colab Notebooks/BitirmeProjesi2/dataset\"\n",
        "CATEGORIES = [\"with_mask\", \"without_mask\"]"
      ],
      "execution_count": null,
      "outputs": []
    },
    {
      "cell_type": "code",
      "metadata": {
        "colab": {
          "base_uri": "https://localhost:8080/"
        },
        "id": "s1NVZ4J09Ll3",
        "outputId": "5f252741-abef-4d19-b5a0-9f79a7e00330"
      },
      "source": [
        "# veri setimizde bulunan resimler için liste oluşturalım\n",
        "print(\"-> Resimler yükleniyor...\")\n",
        "\n",
        "data = []\n",
        "labels = []\n",
        "\n",
        "for category in CATEGORIES:\n",
        "    path = os.path.join(DIRECTORY, category)\n",
        "    for img in os.listdir(path):\n",
        "    \timg_path = os.path.join(path, img)\n",
        "    \timage = load_img(img_path, target_size=(224, 224))\n",
        "    \timage = img_to_array(image)\n",
        "    \timage = preprocess_input(image)\n",
        "\n",
        "    \tdata.append(image)\n",
        "    \tlabels.append(category)"
      ],
      "execution_count": null,
      "outputs": [
        {
          "output_type": "stream",
          "text": [
            "-> Resimler yükleniyor...\n"
          ],
          "name": "stdout"
        },
        {
          "output_type": "stream",
          "text": [
            "/usr/local/lib/python3.7/dist-packages/PIL/Image.py:960: UserWarning: Palette images with Transparency expressed in bytes should be converted to RGBA images\n",
            "  \"Palette images with Transparency expressed in bytes should be \"\n"
          ],
          "name": "stderr"
        }
      ]
    },
    {
      "cell_type": "code",
      "metadata": {
        "id": "9bb_2W8e9Ll5"
      },
      "source": [
        "# train ve test ayrimi\n",
        "lb = LabelBinarizer()\n",
        "labels = lb.fit_transform(labels)\n",
        "labels = to_categorical(labels)\n",
        "\n",
        "data = np.array(data, dtype=\"float32\")\n",
        "labels = np.array(labels)\n",
        "\n",
        "(trainX, testX, trainY, testY) = train_test_split(data, labels, test_size=0.20, stratify=labels, random_state=42)"
      ],
      "execution_count": null,
      "outputs": []
    },
    {
      "cell_type": "code",
      "metadata": {
        "id": "NA_2SCZx9Ll5"
      },
      "source": [
        "aug = ImageDataGenerator(\n",
        "\trotation_range=20,\n",
        "\tzoom_range=0.15,\n",
        "\twidth_shift_range=0.2,\n",
        "\theight_shift_range=0.2,\n",
        "\tshear_range=0.15,\n",
        "\thorizontal_flip=True,\n",
        "\tfill_mode=\"nearest\")"
      ],
      "execution_count": null,
      "outputs": []
    },
    {
      "cell_type": "code",
      "metadata": {
        "id": "_t1h6p53_Yah",
        "colab": {
          "base_uri": "https://localhost:8080/"
        },
        "outputId": "3b6bba13-abd2-4c06-f2b9-20d0da90606e"
      },
      "source": [
        "# MobileNetV2 ile base model olusturulmasi\n",
        "baseModel = MobileNetV2(weights=\"imagenet\", include_top=False,\n",
        "\tinput_tensor=Input(shape=(224, 224, 3)))\n",
        "\n",
        "# üzerine gelecek olan modelin head kismininin olusturulmasi\n",
        "headModel = baseModel.output\n",
        "headModel = AveragePooling2D(pool_size=(7, 7))(headModel)\n",
        "headModel = Flatten(name=\"flatten\")(headModel)\n",
        "headModel = Dense(128, activation=\"relu\")(headModel)\n",
        "headModel = Dropout(0.5)(headModel)\n",
        "headModel = Dense(2, activation=\"softmax\")(headModel)\n",
        "\n",
        "# egitilecek asil modelin olusturulmasi\n",
        "model = Model(inputs=baseModel.input, outputs=headModel)\n",
        "\n",
        "# temel modeldeki tum katmanlar uzerinde dongu yapip ilk train asamasindaki guncellenmeyi onluyoruz\n",
        "for layer in baseModel.layers:\n",
        "\tlayer.trainable = False"
      ],
      "execution_count": null,
      "outputs": [
        {
          "output_type": "stream",
          "text": [
            "WARNING:tensorflow:`input_shape` is undefined or non-square, or `rows` is not in [96, 128, 160, 192, 224]. Weights for input shape (224, 224) will be loaded as the default.\n",
            "Downloading data from https://storage.googleapis.com/tensorflow/keras-applications/mobilenet_v2/mobilenet_v2_weights_tf_dim_ordering_tf_kernels_1.0_224_no_top.h5\n",
            "9412608/9406464 [==============================] - 0s 0us/step\n"
          ],
          "name": "stdout"
        }
      ]
    },
    {
      "cell_type": "code",
      "metadata": {
        "id": "xOMyz4p2Ac4B",
        "colab": {
          "base_uri": "https://localhost:8080/"
        },
        "outputId": "07440391-9d25-4d07-b7ce-b06044ccdcc3"
      },
      "source": [
        "# modelin derlenmesi\n",
        "print(\"[INFO] compiling model...\")\n",
        "opt = Adam(lr=INIT_LR, decay=INIT_LR / EPOCHS)\n",
        "model.compile(loss=\"binary_crossentropy\", optimizer=opt,\n",
        "\tmetrics=[\"accuracy\"])"
      ],
      "execution_count": null,
      "outputs": [
        {
          "output_type": "stream",
          "text": [
            "[INFO] compiling model...\n"
          ],
          "name": "stdout"
        },
        {
          "output_type": "stream",
          "text": [
            "/usr/local/lib/python3.7/dist-packages/tensorflow/python/keras/optimizer_v2/optimizer_v2.py:375: UserWarning: The `lr` argument is deprecated, use `learning_rate` instead.\n",
            "  \"The `lr` argument is deprecated, use `learning_rate` instead.\")\n"
          ],
          "name": "stderr"
        }
      ]
    },
    {
      "cell_type": "code",
      "metadata": {
        "id": "HcN7Cp6sAg5O",
        "colab": {
          "base_uri": "https://localhost:8080/"
        },
        "outputId": "085222bc-c4ef-477f-9978-e5bbd7fc6134"
      },
      "source": [
        "# train\n",
        "print(\"[INFO] training head...\")\n",
        "H = model.fit(\n",
        "\taug.flow(trainX, trainY, batch_size=BS),\n",
        "\tsteps_per_epoch=len(trainX) // BS,\n",
        "\tvalidation_data=(testX, testY),\n",
        "\tvalidation_steps=len(testX) // BS,\n",
        "\tepochs=EPOCHS)"
      ],
      "execution_count": null,
      "outputs": [
        {
          "output_type": "stream",
          "text": [
            "[INFO] training head...\n",
            "Epoch 1/20\n",
            "95/95 [==============================] - 90s 916ms/step - loss: 0.4083 - accuracy: 0.8484 - val_loss: 0.1772 - val_accuracy: 0.9622\n",
            "Epoch 2/20\n",
            "95/95 [==============================] - 87s 916ms/step - loss: 0.1505 - accuracy: 0.9628 - val_loss: 0.0994 - val_accuracy: 0.9700\n",
            "Epoch 3/20\n",
            "95/95 [==============================] - 87s 909ms/step - loss: 0.0938 - accuracy: 0.9763 - val_loss: 0.0755 - val_accuracy: 0.9778\n",
            "Epoch 4/20\n",
            "95/95 [==============================] - 86s 904ms/step - loss: 0.0738 - accuracy: 0.9802 - val_loss: 0.0628 - val_accuracy: 0.9765\n",
            "Epoch 5/20\n",
            "95/95 [==============================] - 86s 909ms/step - loss: 0.0631 - accuracy: 0.9845 - val_loss: 0.0550 - val_accuracy: 0.9778\n",
            "Epoch 6/20\n",
            "95/95 [==============================] - 87s 911ms/step - loss: 0.0549 - accuracy: 0.9829 - val_loss: 0.0539 - val_accuracy: 0.9765\n",
            "Epoch 7/20\n",
            "95/95 [==============================] - 87s 910ms/step - loss: 0.0484 - accuracy: 0.9871 - val_loss: 0.0464 - val_accuracy: 0.9804\n",
            "Epoch 8/20\n",
            "95/95 [==============================] - 86s 902ms/step - loss: 0.0453 - accuracy: 0.9885 - val_loss: 0.0426 - val_accuracy: 0.9817\n",
            "Epoch 9/20\n",
            "95/95 [==============================] - 86s 901ms/step - loss: 0.0372 - accuracy: 0.9914 - val_loss: 0.0403 - val_accuracy: 0.9844\n",
            "Epoch 10/20\n",
            "95/95 [==============================] - 86s 905ms/step - loss: 0.0319 - accuracy: 0.9901 - val_loss: 0.0406 - val_accuracy: 0.9817\n",
            "Epoch 11/20\n",
            "95/95 [==============================] - 87s 919ms/step - loss: 0.0321 - accuracy: 0.9908 - val_loss: 0.0367 - val_accuracy: 0.9883\n",
            "Epoch 12/20\n",
            "95/95 [==============================] - 88s 927ms/step - loss: 0.0332 - accuracy: 0.9895 - val_loss: 0.0348 - val_accuracy: 0.9883\n",
            "Epoch 13/20\n",
            "95/95 [==============================] - 86s 905ms/step - loss: 0.0432 - accuracy: 0.9875 - val_loss: 0.0343 - val_accuracy: 0.9870\n",
            "Epoch 14/20\n",
            "95/95 [==============================] - 86s 903ms/step - loss: 0.0248 - accuracy: 0.9931 - val_loss: 0.0341 - val_accuracy: 0.9870\n",
            "Epoch 15/20\n",
            "95/95 [==============================] - 87s 911ms/step - loss: 0.0322 - accuracy: 0.9904 - val_loss: 0.0329 - val_accuracy: 0.9883\n",
            "Epoch 16/20\n",
            "95/95 [==============================] - 86s 908ms/step - loss: 0.0247 - accuracy: 0.9918 - val_loss: 0.0297 - val_accuracy: 0.9896\n",
            "Epoch 17/20\n",
            "95/95 [==============================] - 87s 910ms/step - loss: 0.0273 - accuracy: 0.9908 - val_loss: 0.0305 - val_accuracy: 0.9896\n",
            "Epoch 18/20\n",
            "95/95 [==============================] - 87s 910ms/step - loss: 0.0251 - accuracy: 0.9941 - val_loss: 0.0306 - val_accuracy: 0.9883\n",
            "Epoch 19/20\n",
            "95/95 [==============================] - 87s 912ms/step - loss: 0.0265 - accuracy: 0.9901 - val_loss: 0.0294 - val_accuracy: 0.9896\n",
            "Epoch 20/20\n",
            "95/95 [==============================] - 86s 907ms/step - loss: 0.0246 - accuracy: 0.9941 - val_loss: 0.0313 - val_accuracy: 0.9870\n"
          ],
          "name": "stdout"
        }
      ]
    },
    {
      "cell_type": "code",
      "metadata": {
        "id": "2aryMiG9A4f0",
        "colab": {
          "base_uri": "https://localhost:8080/"
        },
        "outputId": "4683ffe3-c5cf-493b-8af7-fb6cd6cebfe2"
      },
      "source": [
        "# test asamasinda tahminlerde bulunacagiz\n",
        "print(\"[INFO] evaluating network...\")\n",
        "predIdxs = model.predict(testX, batch_size=BS)"
      ],
      "execution_count": null,
      "outputs": [
        {
          "output_type": "stream",
          "text": [
            "[INFO] evaluating network...\n"
          ],
          "name": "stdout"
        }
      ]
    },
    {
      "cell_type": "code",
      "metadata": {
        "id": "eqITqT_DBCd-"
      },
      "source": [
        "# test kumesindeki her goruntu icin, karsilik gelen en buyuk tahmini olasiliga sahip etiketin dizinini buluyoruz\n",
        "predIdxs = np.argmax(predIdxs, axis=1)"
      ],
      "execution_count": null,
      "outputs": []
    },
    {
      "cell_type": "code",
      "metadata": {
        "id": "_uyXRyuBB1kP",
        "colab": {
          "base_uri": "https://localhost:8080/"
        },
        "outputId": "95c9463f-3612-4021-98cf-80df1579baf4"
      },
      "source": [
        "# siniflandirma icin rapor\n",
        "print(classification_report(testY.argmax(axis=1), predIdxs,\n",
        "\ttarget_names=lb.classes_))"
      ],
      "execution_count": null,
      "outputs": [
        {
          "output_type": "stream",
          "text": [
            "              precision    recall  f1-score   support\n",
            "\n",
            "   with_mask       0.98      0.99      0.99       383\n",
            "without_mask       0.99      0.98      0.99       384\n",
            "\n",
            "    accuracy                           0.99       767\n",
            "   macro avg       0.99      0.99      0.99       767\n",
            "weighted avg       0.99      0.99      0.99       767\n",
            "\n"
          ],
          "name": "stdout"
        }
      ]
    },
    {
      "cell_type": "code",
      "metadata": {
        "id": "wyhZQ20tB8Sk",
        "colab": {
          "base_uri": "https://localhost:8080/"
        },
        "outputId": "944cb0f8-ff46-40e8-c3db-7cf67d20bfd2"
      },
      "source": [
        "# modelin kaydedilmesi\n",
        "print(\"[INFO] saving mask detector model...\")\n",
        "model.save(\"mask_detector.model\", save_format=\"h5\")"
      ],
      "execution_count": null,
      "outputs": [
        {
          "output_type": "stream",
          "text": [
            "[INFO] saving mask detector model...\n"
          ],
          "name": "stdout"
        },
        {
          "output_type": "stream",
          "text": [
            "/usr/local/lib/python3.7/dist-packages/tensorflow/python/keras/utils/generic_utils.py:497: CustomMaskWarning: Custom mask layers require a config and must override get_config. When loading, the custom mask layer must be passed to the custom_objects argument.\n",
            "  category=CustomMaskWarning)\n"
          ],
          "name": "stderr"
        }
      ]
    },
    {
      "cell_type": "code",
      "metadata": {
        "id": "rfHr4OyrCHZe",
        "colab": {
          "base_uri": "https://localhost:8080/",
          "height": 298
        },
        "outputId": "069e9036-2df2-40b9-b79c-8fc9abea7fc1"
      },
      "source": [
        "# train icin loss ve accuracy degerleri\n",
        "N = EPOCHS\n",
        "plt.style.use(\"ggplot\")\n",
        "plt.figure()\n",
        "plt.plot(np.arange(0, N), H.history[\"loss\"], label=\"train_loss\")\n",
        "plt.plot(np.arange(0, N), H.history[\"val_loss\"], label=\"val_loss\")\n",
        "plt.plot(np.arange(0, N), H.history[\"accuracy\"], label=\"train_acc\")\n",
        "plt.plot(np.arange(0, N), H.history[\"val_accuracy\"], label=\"val_acc\")\n",
        "plt.title(\"Training Loss and Accuracy\")\n",
        "plt.xlabel(\"Epoch #\")\n",
        "plt.ylabel(\"Loss/Accuracy\")\n",
        "plt.legend(loc=\"lower left\")\n",
        "plt.savefig(\"plot.png\")"
      ],
      "execution_count": null,
      "outputs": [
        {
          "output_type": "display_data",
          "data": {
            "image/png": "[encoded data removed]",
            "text/plain": [
              "<Figure size 432x288 with 1 Axes>"
            ]
          },
          "metadata": {
            "tags": []
          }
        }
      ]
    }
  ]
}